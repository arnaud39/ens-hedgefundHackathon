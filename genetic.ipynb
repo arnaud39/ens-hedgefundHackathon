{
 "cells": [
  {
   "cell_type": "code",
   "execution_count": 1,
   "metadata": {},
   "outputs": [],
   "source": [
    "import numpy as np\n",
    "import pandas as pd\n",
    "from pymoo.problems.functional import FunctionalProblem\n",
    "from pymoo.algorithms.moo.nsga2 import NSGA2\n",
    "from pymoo.algorithms.moo.age import AGEMOEA\n",
    "from pymoo.algorithms.soo.nonconvex.pattern import PatternSearch\n",
    "from pymoo.algorithms.soo.nonconvex.es import ES\n",
    "from pymoo.algorithms.moo.unsga3 import UNSGA3\n",
    "from pymoo.algorithms.soo.nonconvex.cmaes import CMAES\n",
    "from pymoo.algorithms.soo.nonconvex.pattern import PatternSearch\n",
    "\n",
    "\n",
    "from pymoo.termination import get_termination\n",
    "from pymoo.optimize import minimize\n",
    "\n",
    "from genetic_research import Genetic_obj"
   ]
  },
  {
   "cell_type": "code",
   "execution_count": 2,
   "metadata": {},
   "outputs": [],
   "source": [
    "def retrieve_data():\n",
    "    path = \"\"\n",
    "\n",
    "    X_train = pd.read_csv(path + \"X_train.csv\", index_col=0, sep=\",\")\n",
    "    X_train.columns.name = \"date\"\n",
    "\n",
    "    Y_train = pd.read_csv(path + \"Y_train.csv\", index_col=0, sep=\",\")\n",
    "    Y_train.columns.name = \"date\"\n",
    "\n",
    "    X_train_reshape = pd.concat(\n",
    "        [X_train.T.shift(i + 1).stack(dropna=False) for i in range(250)], 1\n",
    "    ).dropna()\n",
    "    X_train_reshape.columns = pd.Index(range(1, 251), name=\"timeLag\")\n",
    "\n",
    "    return np.ascontiguousarray(X_train_reshape.to_numpy(), dtype=np.float32), np.ascontiguousarray(Y_train.to_numpy(), dtype=np.float32)"
   ]
  },
  {
   "cell_type": "code",
   "execution_count": 3,
   "metadata": {},
   "outputs": [
    {
     "name": "stderr",
     "output_type": "stream",
     "text": [
      "/var/folders/m8/sb3p17zj07s4h28sd6njtsbw0000gn/T/ipykernel_15298/2009156589.py:10: FutureWarning: In a future version of pandas all arguments of concat except for the argument 'objs' will be keyword-only.\n",
      "  X_train_reshape = pd.concat(\n"
     ]
    },
    {
     "ename": "TypingError",
     "evalue": "Failed in nopython mode pipeline (step: nopython frontend)\n\u001b[1m\u001b[1m\u001b[1m\u001b[1mFailed in nopython mode pipeline (step: nopython frontend)\n\u001b[1m\u001b[1mCannot resolve setattr: (instance.jitclass.Genetic_obj#12423dfa0<>).X_train_reshape = array(float64, 2d, F)\n\u001b[1m\nFile \"genetic_research.py\", line 14:\u001b[0m\n\u001b[1m    def __init__(self, X_train_reshape: np.array, Y_train: np.array):\n\u001b[1m        self.X_train_reshape = X_train_reshape\n\u001b[0m        \u001b[1m^\u001b[0m\u001b[0m\n\u001b[0m\n\u001b[0m\u001b[1mDuring: typing of set attribute 'X_train_reshape' at /Users/arnaudpetit/Documents/Programmation/3A/hedge_fund/genetic_research.py (14)\u001b[0m\n\u001b[1m\nFile \"genetic_research.py\", line 14:\u001b[0m\n\u001b[1m    def __init__(self, X_train_reshape: np.array, Y_train: np.array):\n\u001b[1m        self.X_train_reshape = X_train_reshape\n\u001b[0m        \u001b[1m^\u001b[0m\u001b[0m\n\n\u001b[0m\u001b[1mDuring: resolving callee type: jitclass.Genetic_obj#12423dfa0<>\u001b[0m\n\u001b[0m\u001b[1mDuring: typing of call at <string> (3)\n\u001b[0m\n\u001b[0m\u001b[1mDuring: resolving callee type: jitclass.Genetic_obj#12423dfa0<>\u001b[0m\n\u001b[0m\u001b[1mDuring: typing of call at <string> (3)\n\u001b[0m\n\u001b[1m\nFile \"<string>\", line 3:\u001b[0m\n\u001b[1m<source missing, REPL/exec in use?>\u001b[0m\n",
     "output_type": "error",
     "traceback": [
      "\u001b[0;31m---------------------------------------------------------------------------\u001b[0m",
      "\u001b[0;31mTypingError\u001b[0m                               Traceback (most recent call last)",
      "\u001b[1;32m/Users/arnaudpetit/Documents/Programmation/3A/hedge_fund/genetic.ipynb Cell 3\u001b[0m in \u001b[0;36m<module>\u001b[0;34m\u001b[0m\n\u001b[1;32m      <a href='vscode-notebook-cell:/Users/arnaudpetit/Documents/Programmation/3A/hedge_fund/genetic.ipynb#Y104sZmlsZQ%3D%3D?line=0'>1</a>\u001b[0m x0 \u001b[39m=\u001b[39m np\u001b[39m.\u001b[39mload(\u001b[39m\"\u001b[39m\u001b[39mx0.npy\u001b[39m\u001b[39m\"\u001b[39m)\n\u001b[0;32m----> <a href='vscode-notebook-cell:/Users/arnaudpetit/Documents/Programmation/3A/hedge_fund/genetic.ipynb#Y104sZmlsZQ%3D%3D?line=1'>2</a>\u001b[0m instance \u001b[39m=\u001b[39m Genetic_obj(\u001b[39m*\u001b[39;49mretrieve_data())\n\u001b[1;32m      <a href='vscode-notebook-cell:/Users/arnaudpetit/Documents/Programmation/3A/hedge_fund/genetic.ipynb#Y104sZmlsZQ%3D%3D?line=2'>3</a>\u001b[0m instance\u001b[39m.\u001b[39mobjectiv_function(x0)\n",
      "File \u001b[0;32m~/mambaforge/lib/python3.9/site-packages/numba/experimental/jitclass/base.py:124\u001b[0m, in \u001b[0;36mJitClassType.__call__\u001b[0;34m(cls, *args, **kwargs)\u001b[0m\n\u001b[1;32m    122\u001b[0m bind \u001b[39m=\u001b[39m \u001b[39mcls\u001b[39m\u001b[39m.\u001b[39m_ctor_sig\u001b[39m.\u001b[39mbind(\u001b[39mNone\u001b[39;00m, \u001b[39m*\u001b[39margs, \u001b[39m*\u001b[39m\u001b[39m*\u001b[39mkwargs)\n\u001b[1;32m    123\u001b[0m bind\u001b[39m.\u001b[39mapply_defaults()\n\u001b[0;32m--> 124\u001b[0m \u001b[39mreturn\u001b[39;00m \u001b[39mcls\u001b[39;49m\u001b[39m.\u001b[39;49m_ctor(\u001b[39m*\u001b[39;49mbind\u001b[39m.\u001b[39;49margs[\u001b[39m1\u001b[39;49m:], \u001b[39m*\u001b[39;49m\u001b[39m*\u001b[39;49mbind\u001b[39m.\u001b[39;49mkwargs)\n",
      "File \u001b[0;32m~/mambaforge/lib/python3.9/site-packages/numba/core/dispatcher.py:468\u001b[0m, in \u001b[0;36m_DispatcherBase._compile_for_args\u001b[0;34m(self, *args, **kws)\u001b[0m\n\u001b[1;32m    464\u001b[0m         msg \u001b[39m=\u001b[39m (\u001b[39mf\u001b[39m\u001b[39m\"\u001b[39m\u001b[39m{\u001b[39;00m\u001b[39mstr\u001b[39m(e)\u001b[39m.\u001b[39mrstrip()\u001b[39m}\u001b[39;00m\u001b[39m \u001b[39m\u001b[39m\\n\u001b[39;00m\u001b[39m\\n\u001b[39;00m\u001b[39mThis error may have been caused \u001b[39m\u001b[39m\"\u001b[39m\n\u001b[1;32m    465\u001b[0m                \u001b[39mf\u001b[39m\u001b[39m\"\u001b[39m\u001b[39mby the following argument(s):\u001b[39m\u001b[39m\\n\u001b[39;00m\u001b[39m{\u001b[39;00margs_str\u001b[39m}\u001b[39;00m\u001b[39m\\n\u001b[39;00m\u001b[39m\"\u001b[39m)\n\u001b[1;32m    466\u001b[0m         e\u001b[39m.\u001b[39mpatch_message(msg)\n\u001b[0;32m--> 468\u001b[0m     error_rewrite(e, \u001b[39m'\u001b[39;49m\u001b[39mtyping\u001b[39;49m\u001b[39m'\u001b[39;49m)\n\u001b[1;32m    469\u001b[0m \u001b[39mexcept\u001b[39;00m errors\u001b[39m.\u001b[39mUnsupportedError \u001b[39mas\u001b[39;00m e:\n\u001b[1;32m    470\u001b[0m     \u001b[39m# Something unsupported is present in the user code, add help info\u001b[39;00m\n\u001b[1;32m    471\u001b[0m     error_rewrite(e, \u001b[39m'\u001b[39m\u001b[39munsupported_error\u001b[39m\u001b[39m'\u001b[39m)\n",
      "File \u001b[0;32m~/mambaforge/lib/python3.9/site-packages/numba/core/dispatcher.py:409\u001b[0m, in \u001b[0;36m_DispatcherBase._compile_for_args.<locals>.error_rewrite\u001b[0;34m(e, issue_type)\u001b[0m\n\u001b[1;32m    407\u001b[0m     \u001b[39mraise\u001b[39;00m e\n\u001b[1;32m    408\u001b[0m \u001b[39melse\u001b[39;00m:\n\u001b[0;32m--> 409\u001b[0m     \u001b[39mraise\u001b[39;00m e\u001b[39m.\u001b[39mwith_traceback(\u001b[39mNone\u001b[39;00m)\n",
      "\u001b[0;31mTypingError\u001b[0m: Failed in nopython mode pipeline (step: nopython frontend)\n\u001b[1m\u001b[1m\u001b[1m\u001b[1mFailed in nopython mode pipeline (step: nopython frontend)\n\u001b[1m\u001b[1mCannot resolve setattr: (instance.jitclass.Genetic_obj#12423dfa0<>).X_train_reshape = array(float64, 2d, F)\n\u001b[1m\nFile \"genetic_research.py\", line 14:\u001b[0m\n\u001b[1m    def __init__(self, X_train_reshape: np.array, Y_train: np.array):\n\u001b[1m        self.X_train_reshape = X_train_reshape\n\u001b[0m        \u001b[1m^\u001b[0m\u001b[0m\n\u001b[0m\n\u001b[0m\u001b[1mDuring: typing of set attribute 'X_train_reshape' at /Users/arnaudpetit/Documents/Programmation/3A/hedge_fund/genetic_research.py (14)\u001b[0m\n\u001b[1m\nFile \"genetic_research.py\", line 14:\u001b[0m\n\u001b[1m    def __init__(self, X_train_reshape: np.array, Y_train: np.array):\n\u001b[1m        self.X_train_reshape = X_train_reshape\n\u001b[0m        \u001b[1m^\u001b[0m\u001b[0m\n\n\u001b[0m\u001b[1mDuring: resolving callee type: jitclass.Genetic_obj#12423dfa0<>\u001b[0m\n\u001b[0m\u001b[1mDuring: typing of call at <string> (3)\n\u001b[0m\n\u001b[0m\u001b[1mDuring: resolving callee type: jitclass.Genetic_obj#12423dfa0<>\u001b[0m\n\u001b[0m\u001b[1mDuring: typing of call at <string> (3)\n\u001b[0m\n\u001b[1m\nFile \"<string>\", line 3:\u001b[0m\n\u001b[1m<source missing, REPL/exec in use?>\u001b[0m\n"
     ]
    }
   ],
   "source": [
    "x0 = np.load(\"x0.npy\")\n",
    "instance = Genetic_obj(*retrieve_data())\n",
    "instance.objectiv_function(x0)"
   ]
  },
  {
   "cell_type": "code",
   "execution_count": 69,
   "metadata": {},
   "outputs": [],
   "source": [
    "x0 = res.X\n",
    "np.save(\"x0\", res.X)"
   ]
  },
  {
   "cell_type": "code",
   "execution_count": 75,
   "metadata": {},
   "outputs": [
    {
     "name": "stderr",
     "output_type": "stream",
     "text": [
      "/Users/arnaudpetit/Documents/Programmation/3A/hedge_fund/genetic_research.py:63: FutureWarning: In a future version of pandas all arguments of concat except for the argument 'objs' will be keyword-only.\n",
      "  X_train_reshape = pd.concat(\n"
     ]
    }
   ],
   "source": [
    "_, Y_train, X_train_reshape = retrieve_data()\n",
    "instance = Genetic_obj(X_train_reshape, Y_train, Y_train.T.stack().to_numpy())\n",
    "\n",
    "objs = [\n",
    "    lambda x: -1*instance.objectiv_function(x),\n",
    "]\n",
    "\n",
    "constr_ieq = []\n",
    "\n",
    "n_var = 250 * 10\n",
    "\n",
    "problem = FunctionalProblem(\n",
    "    n_var,\n",
    "    objs,\n",
    "    xl=np.ones(2500) * -3,\n",
    "    xu=np.ones(2500) * 3,\n",
    ")\n",
    "\n",
    "algorithm = PatternSearch(x0=x0)\n",
    "\n",
    "termination = get_termination(\"n_gen\", 100)"
   ]
  },
  {
   "cell_type": "code",
   "execution_count": 76,
   "metadata": {},
   "outputs": [
    {
     "name": "stdout",
     "output_type": "stream",
     "text": [
      "=================================================\n",
      "n_gen  |  n_eval  |     f_avg     |     f_min    \n",
      "=================================================\n",
      "     1 |        1 | -1.439220E-01 | -1.439220E-01\n",
      "     2 |     4440 | -1.464726E-01 | -1.490233E-01\n"
     ]
    },
    {
     "ename": "KeyboardInterrupt",
     "evalue": "",
     "output_type": "error",
     "traceback": [
      "\u001b[0;31m---------------------------------------------------------------------------\u001b[0m",
      "\u001b[0;31mKeyboardInterrupt\u001b[0m                         Traceback (most recent call last)",
      "\u001b[1;32m/Users/arnaudpetit/Documents/Programmation/3A/hedge_fund/genetic.ipynb Cell 4\u001b[0m in \u001b[0;36m<module>\u001b[0;34m\u001b[0m\n\u001b[0;32m----> <a href='vscode-notebook-cell:/Users/arnaudpetit/Documents/Programmation/3A/hedge_fund/genetic.ipynb#W2sZmlsZQ%3D%3D?line=0'>1</a>\u001b[0m res \u001b[39m=\u001b[39m minimize(\n\u001b[1;32m      <a href='vscode-notebook-cell:/Users/arnaudpetit/Documents/Programmation/3A/hedge_fund/genetic.ipynb#W2sZmlsZQ%3D%3D?line=1'>2</a>\u001b[0m     problem, algorithm, seed\u001b[39m=\u001b[39;49m\u001b[39m1\u001b[39;49m, verbose\u001b[39m=\u001b[39;49m\u001b[39mTrue\u001b[39;49;00m\n\u001b[1;32m      <a href='vscode-notebook-cell:/Users/arnaudpetit/Documents/Programmation/3A/hedge_fund/genetic.ipynb#W2sZmlsZQ%3D%3D?line=2'>3</a>\u001b[0m )\n\u001b[1;32m      <a href='vscode-notebook-cell:/Users/arnaudpetit/Documents/Programmation/3A/hedge_fund/genetic.ipynb#W2sZmlsZQ%3D%3D?line=3'>4</a>\u001b[0m \u001b[39mprint\u001b[39m(\u001b[39mf\u001b[39m\u001b[39m\"\u001b[39m\u001b[39mBest solution found: \u001b[39m\u001b[39m\\n\u001b[39;00m\u001b[39mX = \u001b[39m\u001b[39m{\u001b[39;00mres\u001b[39m.\u001b[39mX\u001b[39m}\u001b[39;00m\u001b[39m\\n\u001b[39;00m\u001b[39mF = \u001b[39m\u001b[39m{\u001b[39;00mres\u001b[39m.\u001b[39mF\u001b[39m}\u001b[39;00m\u001b[39m\\n\u001b[39;00m\u001b[39mCV= \u001b[39m\u001b[39m{\u001b[39;00mres\u001b[39m.\u001b[39mCV\u001b[39m}\u001b[39;00m\u001b[39m\"\u001b[39m)\n",
      "File \u001b[0;32m~/mambaforge/lib/python3.9/site-packages/pymoo/optimize.py:67\u001b[0m, in \u001b[0;36mminimize\u001b[0;34m(problem, algorithm, termination, copy_algorithm, copy_termination, **kwargs)\u001b[0m\n\u001b[1;32m     64\u001b[0m     algorithm\u001b[39m.\u001b[39msetup(problem, \u001b[39m*\u001b[39m\u001b[39m*\u001b[39mkwargs)\n\u001b[1;32m     66\u001b[0m \u001b[39m# actually execute the algorithm\u001b[39;00m\n\u001b[0;32m---> 67\u001b[0m res \u001b[39m=\u001b[39m algorithm\u001b[39m.\u001b[39;49mrun()\n\u001b[1;32m     69\u001b[0m \u001b[39m# store the deep copied algorithm in the result object\u001b[39;00m\n\u001b[1;32m     70\u001b[0m res\u001b[39m.\u001b[39malgorithm \u001b[39m=\u001b[39m algorithm\n",
      "File \u001b[0;32m~/mambaforge/lib/python3.9/site-packages/pymoo/core/algorithm.py:141\u001b[0m, in \u001b[0;36mAlgorithm.run\u001b[0;34m(self)\u001b[0m\n\u001b[1;32m    139\u001b[0m \u001b[39mdef\u001b[39;00m \u001b[39mrun\u001b[39m(\u001b[39mself\u001b[39m):\n\u001b[1;32m    140\u001b[0m     \u001b[39mwhile\u001b[39;00m \u001b[39mself\u001b[39m\u001b[39m.\u001b[39mhas_next():\n\u001b[0;32m--> 141\u001b[0m         \u001b[39mself\u001b[39;49m\u001b[39m.\u001b[39;49mnext()\n\u001b[1;32m    142\u001b[0m     \u001b[39mreturn\u001b[39;00m \u001b[39mself\u001b[39m\u001b[39m.\u001b[39mresult()\n",
      "File \u001b[0;32m~/mambaforge/lib/python3.9/site-packages/pymoo/core/algorithm.py:161\u001b[0m, in \u001b[0;36mAlgorithm.next\u001b[0;34m(self)\u001b[0m\n\u001b[1;32m    159\u001b[0m \u001b[39m# call the advance with them after evaluation\u001b[39;00m\n\u001b[1;32m    160\u001b[0m \u001b[39mif\u001b[39;00m infills \u001b[39mis\u001b[39;00m \u001b[39mnot\u001b[39;00m \u001b[39mNone\u001b[39;00m:\n\u001b[0;32m--> 161\u001b[0m     \u001b[39mself\u001b[39;49m\u001b[39m.\u001b[39;49mevaluator\u001b[39m.\u001b[39;49meval(\u001b[39mself\u001b[39;49m\u001b[39m.\u001b[39;49mproblem, infills, algorithm\u001b[39m=\u001b[39;49m\u001b[39mself\u001b[39;49m)\n\u001b[1;32m    162\u001b[0m     \u001b[39mself\u001b[39m\u001b[39m.\u001b[39madvance(infills\u001b[39m=\u001b[39minfills)\n\u001b[1;32m    164\u001b[0m \u001b[39m# if the algorithm does not follow the infill-advance scheme just call advance\u001b[39;00m\n\u001b[1;32m    165\u001b[0m \u001b[39melse\u001b[39;00m:\n",
      "File \u001b[0;32m~/mambaforge/lib/python3.9/site-packages/pymoo/core/evaluator.py:69\u001b[0m, in \u001b[0;36mEvaluator.eval\u001b[0;34m(self, problem, pop, skip_already_evaluated, evaluate_values_of, count_evals, **kwargs)\u001b[0m\n\u001b[1;32m     65\u001b[0m \u001b[39m# evaluate the solutions (if there are any)\u001b[39;00m\n\u001b[1;32m     66\u001b[0m \u001b[39mif\u001b[39;00m \u001b[39mlen\u001b[39m(I) \u001b[39m>\u001b[39m \u001b[39m0\u001b[39m:\n\u001b[1;32m     67\u001b[0m \n\u001b[1;32m     68\u001b[0m     \u001b[39m# do the actual evaluation - call the sub-function to set the corresponding values to the population\u001b[39;00m\n\u001b[0;32m---> 69\u001b[0m     \u001b[39mself\u001b[39;49m\u001b[39m.\u001b[39;49m_eval(problem, pop[I], evaluate_values_of, \u001b[39m*\u001b[39;49m\u001b[39m*\u001b[39;49mkwargs)\n\u001b[1;32m     71\u001b[0m \u001b[39m# update the function evaluation counter\u001b[39;00m\n\u001b[1;32m     72\u001b[0m \u001b[39mif\u001b[39;00m count_evals:\n",
      "File \u001b[0;32m~/mambaforge/lib/python3.9/site-packages/pymoo/core/evaluator.py:90\u001b[0m, in \u001b[0;36mEvaluator._eval\u001b[0;34m(self, problem, pop, evaluate_values_of, **kwargs)\u001b[0m\n\u001b[1;32m     87\u001b[0m X \u001b[39m=\u001b[39m pop\u001b[39m.\u001b[39mget(\u001b[39m\"\u001b[39m\u001b[39mX\u001b[39m\u001b[39m\"\u001b[39m)\n\u001b[1;32m     89\u001b[0m \u001b[39m# call the problem to evaluate the solutions\u001b[39;00m\n\u001b[0;32m---> 90\u001b[0m out \u001b[39m=\u001b[39m problem\u001b[39m.\u001b[39;49mevaluate(X, return_values_of\u001b[39m=\u001b[39;49mevaluate_values_of, return_as_dictionary\u001b[39m=\u001b[39;49m\u001b[39mTrue\u001b[39;49;00m, \u001b[39m*\u001b[39;49m\u001b[39m*\u001b[39;49mkwargs)\n\u001b[1;32m     92\u001b[0m \u001b[39m# for each of the attributes set it to the problem\u001b[39;00m\n\u001b[1;32m     93\u001b[0m \u001b[39mfor\u001b[39;00m key, val \u001b[39min\u001b[39;00m out\u001b[39m.\u001b[39mitems():\n",
      "File \u001b[0;32m~/mambaforge/lib/python3.9/site-packages/pymoo/core/problem.py:187\u001b[0m, in \u001b[0;36mProblem.evaluate\u001b[0;34m(self, X, return_values_of, return_as_dictionary, *args, **kwargs)\u001b[0m\n\u001b[1;32m    184\u001b[0m     only_single_value \u001b[39m=\u001b[39m \u001b[39mnot\u001b[39;00m (\u001b[39misinstance\u001b[39m(X, \u001b[39mlist\u001b[39m) \u001b[39mor\u001b[39;00m \u001b[39misinstance\u001b[39m(X, np\u001b[39m.\u001b[39mndarray))\n\u001b[1;32m    186\u001b[0m \u001b[39m# this is where the actual evaluation takes place\u001b[39;00m\n\u001b[0;32m--> 187\u001b[0m _out \u001b[39m=\u001b[39m \u001b[39mself\u001b[39;49m\u001b[39m.\u001b[39;49mdo(X, return_values_of, \u001b[39m*\u001b[39;49margs, \u001b[39m*\u001b[39;49m\u001b[39m*\u001b[39;49mkwargs)\n\u001b[1;32m    189\u001b[0m out \u001b[39m=\u001b[39m {}\n\u001b[1;32m    190\u001b[0m \u001b[39mfor\u001b[39;00m k, v \u001b[39min\u001b[39;00m _out\u001b[39m.\u001b[39mitems():\n\u001b[1;32m    191\u001b[0m \n\u001b[1;32m    192\u001b[0m     \u001b[39m# copy it to a numpy array (it might be one of jax at this point)\u001b[39;00m\n",
      "File \u001b[0;32m~/mambaforge/lib/python3.9/site-packages/pymoo/core/problem.py:227\u001b[0m, in \u001b[0;36mProblem.do\u001b[0;34m(self, X, return_values_of, *args, **kwargs)\u001b[0m\n\u001b[1;32m    225\u001b[0m \u001b[39m# do the function evaluation\u001b[39;00m\n\u001b[1;32m    226\u001b[0m \u001b[39mif\u001b[39;00m \u001b[39mself\u001b[39m\u001b[39m.\u001b[39melementwise:\n\u001b[0;32m--> 227\u001b[0m     \u001b[39mself\u001b[39;49m\u001b[39m.\u001b[39;49m_evaluate_elementwise(X, out, \u001b[39m*\u001b[39;49margs, \u001b[39m*\u001b[39;49m\u001b[39m*\u001b[39;49mkwargs)\n\u001b[1;32m    228\u001b[0m \u001b[39melse\u001b[39;00m:\n\u001b[1;32m    229\u001b[0m     \u001b[39mself\u001b[39m\u001b[39m.\u001b[39m_evaluate_vectorized(X, out, \u001b[39m*\u001b[39margs, \u001b[39m*\u001b[39m\u001b[39m*\u001b[39mkwargs)\n",
      "File \u001b[0;32m~/mambaforge/lib/python3.9/site-packages/pymoo/core/problem.py:245\u001b[0m, in \u001b[0;36mProblem._evaluate_elementwise\u001b[0;34m(self, X, out, *args, **kwargs)\u001b[0m\n\u001b[1;32m    242\u001b[0m f \u001b[39m=\u001b[39m \u001b[39mself\u001b[39m\u001b[39m.\u001b[39melementwise_func(\u001b[39mself\u001b[39m, args, kwargs)\n\u001b[1;32m    244\u001b[0m \u001b[39m# execute the runner\u001b[39;00m\n\u001b[0;32m--> 245\u001b[0m elems \u001b[39m=\u001b[39m \u001b[39mself\u001b[39;49m\u001b[39m.\u001b[39;49melementwise_runner(f, X)\n\u001b[1;32m    247\u001b[0m \u001b[39m# for each evaluation call\u001b[39;00m\n\u001b[1;32m    248\u001b[0m \u001b[39mfor\u001b[39;00m elem \u001b[39min\u001b[39;00m elems:\n\u001b[1;32m    249\u001b[0m \n\u001b[1;32m    250\u001b[0m     \u001b[39m# for each key stored for this evaluation\u001b[39;00m\n",
      "File \u001b[0;32m~/mambaforge/lib/python3.9/site-packages/pymoo/core/problem.py:27\u001b[0m, in \u001b[0;36mLoopedElementwiseEvaluation.__call__\u001b[0;34m(self, f, X)\u001b[0m\n\u001b[1;32m     26\u001b[0m \u001b[39mdef\u001b[39;00m \u001b[39m__call__\u001b[39m(\u001b[39mself\u001b[39m, f, X):\n\u001b[0;32m---> 27\u001b[0m     \u001b[39mreturn\u001b[39;00m [f(x) \u001b[39mfor\u001b[39;00m x \u001b[39min\u001b[39;00m X]\n",
      "File \u001b[0;32m~/mambaforge/lib/python3.9/site-packages/pymoo/core/problem.py:27\u001b[0m, in \u001b[0;36m<listcomp>\u001b[0;34m(.0)\u001b[0m\n\u001b[1;32m     26\u001b[0m \u001b[39mdef\u001b[39;00m \u001b[39m__call__\u001b[39m(\u001b[39mself\u001b[39m, f, X):\n\u001b[0;32m---> 27\u001b[0m     \u001b[39mreturn\u001b[39;00m [f(x) \u001b[39mfor\u001b[39;00m x \u001b[39min\u001b[39;00m X]\n",
      "File \u001b[0;32m~/mambaforge/lib/python3.9/site-packages/pymoo/core/problem.py:20\u001b[0m, in \u001b[0;36mElementwiseEvaluationFunction.__call__\u001b[0;34m(self, x)\u001b[0m\n\u001b[1;32m     18\u001b[0m \u001b[39mdef\u001b[39;00m \u001b[39m__call__\u001b[39m(\u001b[39mself\u001b[39m, x):\n\u001b[1;32m     19\u001b[0m     out \u001b[39m=\u001b[39m \u001b[39mdict\u001b[39m()\n\u001b[0;32m---> 20\u001b[0m     \u001b[39mself\u001b[39;49m\u001b[39m.\u001b[39;49mproblem\u001b[39m.\u001b[39;49m_evaluate(x, out, \u001b[39m*\u001b[39;49m\u001b[39mself\u001b[39;49m\u001b[39m.\u001b[39;49margs, \u001b[39m*\u001b[39;49m\u001b[39m*\u001b[39;49m\u001b[39mself\u001b[39;49m\u001b[39m.\u001b[39;49mkwargs)\n\u001b[1;32m     21\u001b[0m     \u001b[39mreturn\u001b[39;00m out\n",
      "File \u001b[0;32m~/mambaforge/lib/python3.9/site-packages/pymoo/problems/functional.py:39\u001b[0m, in \u001b[0;36mFunctionalProblem._evaluate\u001b[0;34m(self, x, out, *args, **kwargs)\u001b[0m\n\u001b[1;32m     38\u001b[0m \u001b[39mdef\u001b[39;00m \u001b[39m_evaluate\u001b[39m(\u001b[39mself\u001b[39m, x, out, \u001b[39m*\u001b[39margs, \u001b[39m*\u001b[39m\u001b[39m*\u001b[39mkwargs):\n\u001b[0;32m---> 39\u001b[0m     out[\u001b[39m\"\u001b[39m\u001b[39mF\u001b[39m\u001b[39m\"\u001b[39m] \u001b[39m=\u001b[39m np\u001b[39m.\u001b[39marray([obj(x) \u001b[39mfor\u001b[39;00m obj \u001b[39min\u001b[39;00m \u001b[39mself\u001b[39m\u001b[39m.\u001b[39mobjs])\n\u001b[1;32m     40\u001b[0m     out[\u001b[39m\"\u001b[39m\u001b[39mG\u001b[39m\u001b[39m\"\u001b[39m] \u001b[39m=\u001b[39m np\u001b[39m.\u001b[39marray([constr(x) \u001b[39mfor\u001b[39;00m constr \u001b[39min\u001b[39;00m \u001b[39mself\u001b[39m\u001b[39m.\u001b[39mconstr_ieq])\n\u001b[1;32m     41\u001b[0m     out[\u001b[39m\"\u001b[39m\u001b[39mH\u001b[39m\u001b[39m\"\u001b[39m] \u001b[39m=\u001b[39m np\u001b[39m.\u001b[39marray([constr(x) \u001b[39mfor\u001b[39;00m constr \u001b[39min\u001b[39;00m \u001b[39mself\u001b[39m\u001b[39m.\u001b[39mconstr_eq])\n",
      "File \u001b[0;32m~/mambaforge/lib/python3.9/site-packages/pymoo/problems/functional.py:39\u001b[0m, in \u001b[0;36m<listcomp>\u001b[0;34m(.0)\u001b[0m\n\u001b[1;32m     38\u001b[0m \u001b[39mdef\u001b[39;00m \u001b[39m_evaluate\u001b[39m(\u001b[39mself\u001b[39m, x, out, \u001b[39m*\u001b[39margs, \u001b[39m*\u001b[39m\u001b[39m*\u001b[39mkwargs):\n\u001b[0;32m---> 39\u001b[0m     out[\u001b[39m\"\u001b[39m\u001b[39mF\u001b[39m\u001b[39m\"\u001b[39m] \u001b[39m=\u001b[39m np\u001b[39m.\u001b[39marray([obj(x) \u001b[39mfor\u001b[39;00m obj \u001b[39min\u001b[39;00m \u001b[39mself\u001b[39m\u001b[39m.\u001b[39mobjs])\n\u001b[1;32m     40\u001b[0m     out[\u001b[39m\"\u001b[39m\u001b[39mG\u001b[39m\u001b[39m\"\u001b[39m] \u001b[39m=\u001b[39m np\u001b[39m.\u001b[39marray([constr(x) \u001b[39mfor\u001b[39;00m constr \u001b[39min\u001b[39;00m \u001b[39mself\u001b[39m\u001b[39m.\u001b[39mconstr_ieq])\n\u001b[1;32m     41\u001b[0m     out[\u001b[39m\"\u001b[39m\u001b[39mH\u001b[39m\u001b[39m\"\u001b[39m] \u001b[39m=\u001b[39m np\u001b[39m.\u001b[39marray([constr(x) \u001b[39mfor\u001b[39;00m constr \u001b[39min\u001b[39;00m \u001b[39mself\u001b[39m\u001b[39m.\u001b[39mconstr_eq])\n",
      "\u001b[1;32m/Users/arnaudpetit/Documents/Programmation/3A/hedge_fund/genetic.ipynb Cell 4\u001b[0m in \u001b[0;36m<lambda>\u001b[0;34m(x)\u001b[0m\n\u001b[1;32m      <a href='vscode-notebook-cell:/Users/arnaudpetit/Documents/Programmation/3A/hedge_fund/genetic.ipynb#W2sZmlsZQ%3D%3D?line=0'>1</a>\u001b[0m _, Y_train, X_train_reshape \u001b[39m=\u001b[39m retrieve_data()\n\u001b[1;32m      <a href='vscode-notebook-cell:/Users/arnaudpetit/Documents/Programmation/3A/hedge_fund/genetic.ipynb#W2sZmlsZQ%3D%3D?line=1'>2</a>\u001b[0m instance \u001b[39m=\u001b[39m Genetic_obj(X_train_reshape, Y_train)\n\u001b[1;32m      <a href='vscode-notebook-cell:/Users/arnaudpetit/Documents/Programmation/3A/hedge_fund/genetic.ipynb#W2sZmlsZQ%3D%3D?line=3'>4</a>\u001b[0m objs \u001b[39m=\u001b[39m [\n\u001b[0;32m----> <a href='vscode-notebook-cell:/Users/arnaudpetit/Documents/Programmation/3A/hedge_fund/genetic.ipynb#W2sZmlsZQ%3D%3D?line=4'>5</a>\u001b[0m     \u001b[39mlambda\u001b[39;00m x: \u001b[39m-\u001b[39m\u001b[39m1\u001b[39m\u001b[39m*\u001b[39minstance\u001b[39m.\u001b[39;49mobjectiv_function(x),\n\u001b[1;32m      <a href='vscode-notebook-cell:/Users/arnaudpetit/Documents/Programmation/3A/hedge_fund/genetic.ipynb#W2sZmlsZQ%3D%3D?line=5'>6</a>\u001b[0m ]\n\u001b[1;32m      <a href='vscode-notebook-cell:/Users/arnaudpetit/Documents/Programmation/3A/hedge_fund/genetic.ipynb#W2sZmlsZQ%3D%3D?line=7'>8</a>\u001b[0m constr_ieq \u001b[39m=\u001b[39m []\n\u001b[1;32m     <a href='vscode-notebook-cell:/Users/arnaudpetit/Documents/Programmation/3A/hedge_fund/genetic.ipynb#W2sZmlsZQ%3D%3D?line=9'>10</a>\u001b[0m n_var \u001b[39m=\u001b[39m \u001b[39m250\u001b[39m \u001b[39m*\u001b[39m \u001b[39m10\u001b[39m\n",
      "File \u001b[0;32m~/Documents/Programmation/3A/hedge_fund/genetic_research.py:37\u001b[0m, in \u001b[0;36mGenetic_obj.objectiv_function\u001b[0;34m(self, x)\u001b[0m\n\u001b[1;32m     34\u001b[0m A_raw \u001b[39m=\u001b[39m x\u001b[39m.\u001b[39mreshape([\u001b[39m250\u001b[39m, \u001b[39m10\u001b[39m])\n\u001b[1;32m     35\u001b[0m A, _ \u001b[39m=\u001b[39m np\u001b[39m.\u001b[39mlinalg\u001b[39m.\u001b[39mqr(A_raw)\n\u001b[0;32m---> 37\u001b[0m X_stack \u001b[39m=\u001b[39m [\n\u001b[1;32m     38\u001b[0m     (\u001b[39mself\u001b[39m\u001b[39m.\u001b[39mX_train_reshape \u001b[39m@\u001b[39m A)\n\u001b[1;32m     39\u001b[0m     \u001b[39m.\u001b[39mloc[(\u001b[39mslice\u001b[39m(\u001b[39mNone\u001b[39;00m), k), :]\n\u001b[1;32m     40\u001b[0m     \u001b[39m.\u001b[39mreset_index(level\u001b[39m=\u001b[39m\u001b[39m1\u001b[39m)\n\u001b[1;32m     41\u001b[0m     \u001b[39m.\u001b[39mdrop([\u001b[39m\"\u001b[39m\u001b[39mstocksID\u001b[39m\u001b[39m\"\u001b[39m], axis\u001b[39m=\u001b[39m\u001b[39m1\u001b[39m)\n\u001b[1;32m     42\u001b[0m     \u001b[39mfor\u001b[39;00m k \u001b[39min\u001b[39;00m \u001b[39mrange\u001b[39m(\u001b[39m50\u001b[39m)\n\u001b[1;32m     43\u001b[0m ]\n\u001b[1;32m     45\u001b[0m \u001b[39m# fit beta\u001b[39;00m\n\u001b[1;32m     46\u001b[0m beta \u001b[39m=\u001b[39m \u001b[39mself\u001b[39m\u001b[39m.\u001b[39mfitBeta(A)\n",
      "File \u001b[0;32m~/Documents/Programmation/3A/hedge_fund/genetic_research.py:38\u001b[0m, in \u001b[0;36m<listcomp>\u001b[0;34m(.0)\u001b[0m\n\u001b[1;32m     34\u001b[0m A_raw \u001b[39m=\u001b[39m x\u001b[39m.\u001b[39mreshape([\u001b[39m250\u001b[39m, \u001b[39m10\u001b[39m])\n\u001b[1;32m     35\u001b[0m A, _ \u001b[39m=\u001b[39m np\u001b[39m.\u001b[39mlinalg\u001b[39m.\u001b[39mqr(A_raw)\n\u001b[1;32m     37\u001b[0m X_stack \u001b[39m=\u001b[39m [\n\u001b[0;32m---> 38\u001b[0m     (\u001b[39mself\u001b[39;49m\u001b[39m.\u001b[39;49mX_train_reshape \u001b[39m@\u001b[39;49m A)\n\u001b[1;32m     39\u001b[0m     \u001b[39m.\u001b[39mloc[(\u001b[39mslice\u001b[39m(\u001b[39mNone\u001b[39;00m), k), :]\n\u001b[1;32m     40\u001b[0m     \u001b[39m.\u001b[39mreset_index(level\u001b[39m=\u001b[39m\u001b[39m1\u001b[39m)\n\u001b[1;32m     41\u001b[0m     \u001b[39m.\u001b[39mdrop([\u001b[39m\"\u001b[39m\u001b[39mstocksID\u001b[39m\u001b[39m\"\u001b[39m], axis\u001b[39m=\u001b[39m\u001b[39m1\u001b[39m)\n\u001b[1;32m     42\u001b[0m     \u001b[39mfor\u001b[39;00m k \u001b[39min\u001b[39;00m \u001b[39mrange\u001b[39m(\u001b[39m50\u001b[39m)\n\u001b[1;32m     43\u001b[0m ]\n\u001b[1;32m     45\u001b[0m \u001b[39m# fit beta\u001b[39;00m\n\u001b[1;32m     46\u001b[0m beta \u001b[39m=\u001b[39m \u001b[39mself\u001b[39m\u001b[39m.\u001b[39mfitBeta(A)\n",
      "File \u001b[0;32m~/mambaforge/lib/python3.9/site-packages/pandas/core/frame.py:1553\u001b[0m, in \u001b[0;36mDataFrame.__matmul__\u001b[0;34m(self, other)\u001b[0m\n\u001b[1;32m   1547\u001b[0m \u001b[39mdef\u001b[39;00m \u001b[39m__matmul__\u001b[39m(\n\u001b[1;32m   1548\u001b[0m     \u001b[39mself\u001b[39m, other: AnyArrayLike \u001b[39m|\u001b[39m DataFrame \u001b[39m|\u001b[39m Series\n\u001b[1;32m   1549\u001b[0m ) \u001b[39m-\u001b[39m\u001b[39m>\u001b[39m DataFrame \u001b[39m|\u001b[39m Series:\n\u001b[1;32m   1550\u001b[0m     \u001b[39m\"\"\"\u001b[39;00m\n\u001b[1;32m   1551\u001b[0m \u001b[39m    Matrix multiplication using binary `@` operator in Python>=3.5.\u001b[39;00m\n\u001b[1;32m   1552\u001b[0m \u001b[39m    \"\"\"\u001b[39;00m\n\u001b[0;32m-> 1553\u001b[0m     \u001b[39mreturn\u001b[39;00m \u001b[39mself\u001b[39;49m\u001b[39m.\u001b[39;49mdot(other)\n",
      "File \u001b[0;32m~/mambaforge/lib/python3.9/site-packages/pandas/core/frame.py:1529\u001b[0m, in \u001b[0;36mDataFrame.dot\u001b[0;34m(self, other)\u001b[0m\n\u001b[1;32m   1527\u001b[0m     \u001b[39mreturn\u001b[39;00m \u001b[39mself\u001b[39m\u001b[39m.\u001b[39m_constructor_sliced(np\u001b[39m.\u001b[39mdot(lvals, rvals), index\u001b[39m=\u001b[39mleft\u001b[39m.\u001b[39mindex)\n\u001b[1;32m   1528\u001b[0m \u001b[39melif\u001b[39;00m \u001b[39misinstance\u001b[39m(rvals, (np\u001b[39m.\u001b[39mndarray, Index)):\n\u001b[0;32m-> 1529\u001b[0m     result \u001b[39m=\u001b[39m np\u001b[39m.\u001b[39;49mdot(lvals, rvals)\n\u001b[1;32m   1530\u001b[0m     \u001b[39mif\u001b[39;00m result\u001b[39m.\u001b[39mndim \u001b[39m==\u001b[39m \u001b[39m2\u001b[39m:\n\u001b[1;32m   1531\u001b[0m         \u001b[39mreturn\u001b[39;00m \u001b[39mself\u001b[39m\u001b[39m.\u001b[39m_constructor(result, index\u001b[39m=\u001b[39mleft\u001b[39m.\u001b[39mindex)\n",
      "File \u001b[0;32m<__array_function__ internals>:180\u001b[0m, in \u001b[0;36mdot\u001b[0;34m(*args, **kwargs)\u001b[0m\n",
      "\u001b[0;31mKeyboardInterrupt\u001b[0m: "
     ]
    }
   ],
   "source": [
    "res = minimize(\n",
    "    problem, algorithm, seed=1, verbose=True\n",
    ")\n",
    "print(f\"Best solution found: \\nX = {res.X}\\nF = {res.F}\\nCV= {res.CV}\")"
   ]
  },
  {
   "cell_type": "code",
   "execution_count": 65,
   "metadata": {},
   "outputs": [],
   "source": [
    "np.save(\"x_genetic_\", res.X)"
   ]
  },
  {
   "cell_type": "code",
   "execution_count": 64,
   "metadata": {},
   "outputs": [],
   "source": [
    "def parametersTransform(A, beta, D=250, F=10):\n",
    "    \n",
    "    if A.shape != (D, F):\n",
    "        print('A has not the good shape')\n",
    "        return\n",
    "    \n",
    "    if beta.shape[0] != F:\n",
    "        print('beta has not the good shape')\n",
    "        return        \n",
    "    \n",
    "    output = np.hstack( (np.hstack([A.T, beta.reshape((F, 1))])).T )\n",
    "    \n",
    "    return output\n",
    "\n",
    "\n",
    "A_raw = res.X.reshape([250, 10])\n",
    "A, _ = np.linalg.qr(A_raw)\n",
    "beta = instance.fitBeta(A)\n",
    "# from output to csv file...\n",
    "output = parametersTransform(A, beta)\n",
    "pd.DataFrame(output).to_csv(\"\" + 'ArnaudPetitsubmissionExample.csv')"
   ]
  },
  {
   "cell_type": "code",
   "execution_count": 37,
   "metadata": {},
   "outputs": [
    {
     "data": {
      "text/plain": [
       "<pymoo.visualization.scatter.Scatter at 0x1212d8b80>"
      ]
     },
     "execution_count": 37,
     "metadata": {},
     "output_type": "execute_result"
    },
    {
     "data": {
      "image/png": "[encoded data removed]",
      "text/plain": [
       "<Figure size 576x432 with 1 Axes>"
      ]
     },
     "metadata": {
      "needs_background": "light"
     },
     "output_type": "display_data"
    }
   ],
   "source": [
    "from pymoo.visualization.scatter import Scatter\n",
    "plot = Scatter()\n",
    "plot.add(problem.pareto_front(), plot_type=\"line\", color=\"black\", alpha=0.7)\n",
    "plot.add(res.F, facecolor=\"none\", edgecolor=\"red\")\n",
    "plot.show()"
   ]
  },
  {
   "cell_type": "code",
   "execution_count": 24,
   "metadata": {},
   "outputs": [
    {
     "ename": "TypeError",
     "evalue": "scatter() missing 1 required positional argument: 'y'",
     "output_type": "error",
     "traceback": [
      "\u001b[0;31m---------------------------------------------------------------------------\u001b[0m",
      "\u001b[0;31mTypeError\u001b[0m                                 Traceback (most recent call last)",
      "\u001b[1;32m/Users/arnaudpetit/Documents/Programmation/3A/hedge_fund/genetic.ipynb Cell 6\u001b[0m in \u001b[0;36m<module>\u001b[0;34m\u001b[0m\n\u001b[1;32m      <a href='vscode-notebook-cell:/Users/arnaudpetit/Documents/Programmation/3A/hedge_fund/genetic.ipynb#W3sZmlsZQ%3D%3D?line=0'>1</a>\u001b[0m \u001b[39mimport\u001b[39;00m \u001b[39mmatplotlib\u001b[39;00m\u001b[39m.\u001b[39;00m\u001b[39mpyplot\u001b[39;00m \u001b[39mas\u001b[39;00m \u001b[39mplt\u001b[39;00m \n\u001b[1;32m      <a href='vscode-notebook-cell:/Users/arnaudpetit/Documents/Programmation/3A/hedge_fund/genetic.ipynb#W3sZmlsZQ%3D%3D?line=2'>3</a>\u001b[0m plt\u001b[39m.\u001b[39mfigure(figsize\u001b[39m=\u001b[39m(\u001b[39m7\u001b[39m, \u001b[39m5\u001b[39m))\n\u001b[0;32m----> <a href='vscode-notebook-cell:/Users/arnaudpetit/Documents/Programmation/3A/hedge_fund/genetic.ipynb#W3sZmlsZQ%3D%3D?line=3'>4</a>\u001b[0m plt\u001b[39m.\u001b[39;49mscatter(F, s\u001b[39m=\u001b[39;49m\u001b[39m30\u001b[39;49m, facecolors\u001b[39m=\u001b[39;49m\u001b[39m'\u001b[39;49m\u001b[39mnone\u001b[39;49m\u001b[39m'\u001b[39;49m, edgecolors\u001b[39m=\u001b[39;49m\u001b[39m'\u001b[39;49m\u001b[39mblue\u001b[39;49m\u001b[39m'\u001b[39;49m)\n\u001b[1;32m      <a href='vscode-notebook-cell:/Users/arnaudpetit/Documents/Programmation/3A/hedge_fund/genetic.ipynb#W3sZmlsZQ%3D%3D?line=4'>5</a>\u001b[0m plt\u001b[39m.\u001b[39mtitle(\u001b[39m\"\u001b[39m\u001b[39mObjective Space\u001b[39m\u001b[39m\"\u001b[39m)\n\u001b[1;32m      <a href='vscode-notebook-cell:/Users/arnaudpetit/Documents/Programmation/3A/hedge_fund/genetic.ipynb#W3sZmlsZQ%3D%3D?line=5'>6</a>\u001b[0m plt\u001b[39m.\u001b[39mshow()\n",
      "\u001b[0;31mTypeError\u001b[0m: scatter() missing 1 required positional argument: 'y'"
     ]
    },
    {
     "data": {
      "text/plain": [
       "<Figure size 504x360 with 0 Axes>"
      ]
     },
     "metadata": {},
     "output_type": "display_data"
    }
   ],
   "source": [
    "import matplotlib.pyplot as plt \n",
    "\n",
    "plt.figure(figsize=(7, 5))\n",
    "plt.scatter(F, s=30, facecolors='none', edgecolors='blue')\n",
    "plt.title(\"Objective Space\")\n",
    "plt.show()"
   ]
  }
 ],
 "metadata": {
  "kernelspec": {
   "display_name": "Python 3.9.10 ('base')",
   "language": "python",
   "name": "python3"
  },
  "language_info": {
   "codemirror_mode": {
    "name": "ipython",
    "version": 3
   },
   "file_extension": ".py",
   "mimetype": "text/x-python",
   "name": "python",
   "nbconvert_exporter": "python",
   "pygments_lexer": "ipython3",
   "version": "3.9.10"
  },
  "orig_nbformat": 4,
  "vscode": {
   "interpreter": {
    "hash": "56faac8612633bcfddb99da3ad5a50bcd343e3e14a61b03833611d8357de7104"
   }
  }
 },
 "nbformat": 4,
 "nbformat_minor": 2
}
